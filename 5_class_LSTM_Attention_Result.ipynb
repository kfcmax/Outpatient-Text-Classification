{
 "cells": [
  {
   "cell_type": "code",
   "execution_count": 13,
   "metadata": {},
   "outputs": [],
   "source": [
    "#coding:utf-8\n",
    "\n",
    "from keras import Input, Model\n",
    "from keras.layers import Embedding, Dense, Dropout, Bidirectional, CuDNNLSTM\n",
    "import matplotlib.pyplot as plt\n",
    "import itertools\n",
    "import tensorflow as tf\n",
    "from keras_preprocessing import sequence\n",
    "from tensorflow import keras\n",
    "from tensorflow.python.keras import Input\n",
    "from tensorflow.python.keras.layers import Concatenate\n",
    "import numpy\n",
    "import keras\n",
    "from keras import backend as K\n",
    "from keras import activations\n",
    "from keras.engine.topology import Layer\n",
    "from keras.preprocessing import sequence\n",
    "from keras.models import Sequential\n",
    "from keras.models import Model\n",
    "from keras.layers import Input, Dense, Embedding, LSTM, Bidirectional\n",
    "K.clear_session()"
   ]
  },
  {
   "cell_type": "code",
   "execution_count": 22,
   "metadata": {},
   "outputs": [],
   "source": [
    "class AttentionLayer(Layer):\n",
    "    def __init__(self, attention_size=None, **kwargs):\n",
    "        self.attention_size = attention_size\n",
    "        super(AttentionLayer, self).__init__(**kwargs)\n",
    "        \n",
    "    def get_config(self):\n",
    "        config = super().get_config()\n",
    "        config['attention_size'] = self.attention_size\n",
    "        return config\n",
    "        \n",
    "    def build(self, input_shape):\n",
    "        assert len(input_shape) == 3\n",
    "        \n",
    "        self.time_steps = input_shape[1]\n",
    "        hidden_size = input_shape[2]\n",
    "        if self.attention_size is None:\n",
    "            self.attention_size = hidden_size\n",
    "            \n",
    "        self.W = self.add_weight(name='att_weight', shape=(hidden_size, self.attention_size),\n",
    "                                initializer='uniform', trainable=True)\n",
    "        self.b = self.add_weight(name='att_bias', shape=(self.attention_size,),\n",
    "                                initializer='uniform', trainable=True)\n",
    "        self.V = self.add_weight(name='att_var', shape=(self.attention_size,),\n",
    "                                initializer='uniform', trainable=True)\n",
    "        super(AttentionLayer, self).build(input_shape)\n",
    "    \n",
    "    def call(self, inputs):\n",
    "        self.V = K.reshape(self.V, (-1, 1))\n",
    "        H = K.tanh(K.dot(inputs, self.W) + self.b)\n",
    "        score = K.softmax(K.dot(H, self.V))\n",
    "        outputs = K.sum(score * inputs, axis=1)\n",
    "        return outputs\n",
    "    \n",
    "    def compute_output_shape(self, input_shape):\n",
    "        return input_shape[0], input_shape[2]"
   ]
  },
  {
   "cell_type": "code",
   "execution_count": 15,
   "metadata": {},
   "outputs": [],
   "source": [
    "def create_classify_model(max_len, vocab_size, embedding_size, hidden_size, attention_size, class_nums):\n",
    "\t# 輸入層\n",
    "    inputs = Input(shape=(max_len,), dtype='int32')\n",
    "    # Embedding層\n",
    "    x = Embedding(vocab_size, embedding_size)(inputs)\n",
    "    # BiLSTM層\n",
    "    x = Bidirectional(LSTM(hidden_size, dropout=0.2, return_sequences=True))(x)\n",
    "    # Attention層\n",
    "    x = AttentionLayer(attention_size=attention_size)(x)\n",
    "    # 輸出層\n",
    "    outputs = Dense(class_nums, activation='softmax')(x)\n",
    "    model = Model(inputs=inputs, outputs=outputs)\n",
    "    model.summary() # 輸出模型結構和參數數量\n",
    "    return model"
   ]
  },
  {
   "cell_type": "code",
   "execution_count": 16,
   "metadata": {},
   "outputs": [
    {
     "name": "stdout",
     "output_type": "stream",
     "text": [
      "(1) load texts...\n"
     ]
    }
   ],
   "source": [
    "print ('(1) load texts...')\n",
    "train_texts = open('data/5_class/train_contents.txt').read().split('\\n')\n",
    "train_labels = open('data/5_class/train_labels.txt').read().split('\\n')\n",
    "test_texts = open('data/5_class/test_contents.txt').read().split('\\n')\n",
    "test_labels = open('data/5_class/test_labels.txt').read().split('\\n')\n",
    "all_texts = train_texts + test_texts\n",
    "all_labels = train_labels + test_labels"
   ]
  },
  {
   "cell_type": "code",
   "execution_count": 17,
   "metadata": {},
   "outputs": [
    {
     "name": "stdout",
     "output_type": "stream",
     "text": [
      "(2) doc to var...\n"
     ]
    }
   ],
   "source": [
    "print ('(2) doc to var...')\n",
    "from keras.preprocessing.text import Tokenizer\n",
    "from keras.preprocessing.sequence import pad_sequences\n",
    "from keras.utils import to_categorical\n",
    "import numpy as np\n"
   ]
  },
  {
   "cell_type": "code",
   "execution_count": 79,
   "metadata": {},
   "outputs": [],
   "source": [
    "MAX_LEN = 300\n",
    "rnn_cell_size = 128\n",
    "EMBEDDING_SIZE = 250\n",
    "HIDDEN_SIZE = 64\n",
    "ATT_SIZE = 100\n",
    "BATCH_SIZE = 100\n",
    "EPOCHS = 20\n",
    "n_classes = [\"Oph\",\"Uro\",\"D\",\"Ortho\",\"GYN\"]\n",
    "CLASS_NUMS = len(n_classes)+1"
   ]
  },
  {
   "cell_type": "code",
   "execution_count": 80,
   "metadata": {},
   "outputs": [
    {
     "name": "stdout",
     "output_type": "stream",
     "text": [
      "Found 41439 unique tokens.\n",
      "Shape of data tensor: (16155, 300)\n",
      "Shape of label tensor: (16155, 6)\n"
     ]
    }
   ],
   "source": [
    "tokenizer = Tokenizer()\n",
    "tokenizer.fit_on_texts(all_texts)\n",
    "sequences = tokenizer.texts_to_sequences(all_texts)\n",
    "word_index = tokenizer.word_index\n",
    "print('Found %s unique tokens.' % len(word_index))\n",
    "data = pad_sequences(sequences, maxlen=MAX_LEN)\n",
    "labels = to_categorical(np.asarray(all_labels))\n",
    "vocab = tokenizer.word_index\n",
    "VOCAB_SIZE = len(vocab)\n",
    "print('Shape of data tensor:', data.shape)\n",
    "print('Shape of label tensor:', labels.shape)"
   ]
  },
  {
   "cell_type": "code",
   "execution_count": 81,
   "metadata": {},
   "outputs": [
    {
     "name": "stdout",
     "output_type": "stream",
     "text": [
      "(3) split data set...\n",
      "train docs: 10000\n",
      "val docs: 5655\n",
      "test docs: 500\n"
     ]
    }
   ],
   "source": [
    "print ('(3) split data set...')\n",
    "# split the data into training set, validation set, and test set\n",
    "p1 = 10000\n",
    "p2 = 15655\n",
    "x_train = data[:p1]\n",
    "y_train = labels[:p1]\n",
    "x_val = data[p1:p2]\n",
    "y_val = labels[p1:p2]\n",
    "x_test = data[p2:]\n",
    "y_test = labels[p2:]\n",
    "print ('train docs: '+str(len(x_train)))\n",
    "print ('val docs: '+str(len(x_val)))\n",
    "print ('test docs: '+str(len(x_test)))"
   ]
  },
  {
   "cell_type": "code",
   "execution_count": 82,
   "metadata": {},
   "outputs": [
    {
     "name": "stdout",
     "output_type": "stream",
     "text": [
      "_________________________________________________________________\n",
      "Layer (type)                 Output Shape              Param #   \n",
      "=================================================================\n",
      "input_11 (InputLayer)        (None, 300)               0         \n",
      "_________________________________________________________________\n",
      "embedding_11 (Embedding)     (None, 300, 250)          10359750  \n",
      "_________________________________________________________________\n",
      "bidirectional_11 (Bidirectio (None, 300, 128)          161280    \n",
      "_________________________________________________________________\n",
      "attention_layer_11 (Attentio (None, 128)               13000     \n",
      "_________________________________________________________________\n",
      "dense_10 (Dense)             (None, 6)                 774       \n",
      "=================================================================\n",
      "Total params: 10,534,804\n",
      "Trainable params: 10,534,804\n",
      "Non-trainable params: 0\n",
      "_________________________________________________________________\n"
     ]
    }
   ],
   "source": [
    "# 根據參數創建模型\n",
    "model = create_classify_model(MAX_LEN, VOCAB_SIZE, EMBEDDING_SIZE, HIDDEN_SIZE, ATT_SIZE, CLASS_NUMS)\n",
    "# 選擇損失函數和優化函數\n",
    "model.compile(loss='categorical_crossentropy', optimizer='adam', metrics=['accuracy'])\n"
   ]
  },
  {
   "cell_type": "code",
   "execution_count": 83,
   "metadata": {},
   "outputs": [
    {
     "name": "stdout",
     "output_type": "stream",
     "text": [
      "Train on 10000 samples, validate on 5655 samples\n",
      "Epoch 1/20\n",
      "10000/10000 [==============================] - 96s 10ms/step - loss: 4.3584 - acc: 0.5164 - val_loss: 1.3153 - val_acc: 0.8315\n",
      "Epoch 2/20\n",
      "10000/10000 [==============================] - 93s 9ms/step - loss: 1.1576 - acc: 0.7890 - val_loss: 0.2299 - val_acc: 0.9236\n",
      "Epoch 3/20\n",
      "10000/10000 [==============================] - 90s 9ms/step - loss: 0.2350 - acc: 0.9239 - val_loss: 0.2133 - val_acc: 0.9323\n",
      "Epoch 4/20\n",
      "10000/10000 [==============================] - 94s 9ms/step - loss: 0.1075 - acc: 0.9639 - val_loss: 0.2008 - val_acc: 0.9381\n",
      "Epoch 5/20\n",
      "10000/10000 [==============================] - 92s 9ms/step - loss: 0.0748 - acc: 0.9759 - val_loss: 0.2053 - val_acc: 0.9409\n",
      "Epoch 6/20\n",
      "10000/10000 [==============================] - 92s 9ms/step - loss: 0.0427 - acc: 0.9886 - val_loss: 0.2614 - val_acc: 0.9261\n",
      "Epoch 7/20\n",
      "10000/10000 [==============================] - 92s 9ms/step - loss: 0.0328 - acc: 0.9904 - val_loss: 0.2412 - val_acc: 0.9408\n",
      "Epoch 8/20\n",
      "10000/10000 [==============================] - 92s 9ms/step - loss: 0.0212 - acc: 0.9946 - val_loss: 0.2723 - val_acc: 0.9346\n",
      "Epoch 9/20\n",
      "10000/10000 [==============================] - 92s 9ms/step - loss: 0.0212 - acc: 0.9934 - val_loss: 0.2664 - val_acc: 0.9425\n",
      "Epoch 10/20\n",
      "10000/10000 [==============================] - 92s 9ms/step - loss: 0.0170 - acc: 0.9961 - val_loss: 0.2574 - val_acc: 0.9425\n",
      "Epoch 11/20\n",
      "10000/10000 [==============================] - 93s 9ms/step - loss: 0.0130 - acc: 0.9969 - val_loss: 0.2635 - val_acc: 0.9448\n",
      "Epoch 12/20\n",
      "10000/10000 [==============================] - 92s 9ms/step - loss: 0.0240 - acc: 0.9953 - val_loss: 0.3498 - val_acc: 0.9151\n",
      "Epoch 13/20\n",
      "10000/10000 [==============================] - 92s 9ms/step - loss: 0.0196 - acc: 0.9952 - val_loss: 0.3650 - val_acc: 0.9139\n",
      "Epoch 14/20\n",
      "10000/10000 [==============================] - 94s 9ms/step - loss: 0.0103 - acc: 0.9981 - val_loss: 0.3230 - val_acc: 0.9339\n",
      "Epoch 15/20\n",
      "10000/10000 [==============================] - 95s 10ms/step - loss: 0.0109 - acc: 0.9981 - val_loss: 0.3282 - val_acc: 0.9303\n",
      "Epoch 16/20\n",
      "10000/10000 [==============================] - 93s 9ms/step - loss: 0.0089 - acc: 0.9984 - val_loss: 0.4039 - val_acc: 0.9183\n",
      "Epoch 17/20\n",
      "10000/10000 [==============================] - 93s 9ms/step - loss: 0.0093 - acc: 0.9979 - val_loss: 0.3307 - val_acc: 0.9385\n",
      "Epoch 18/20\n",
      "10000/10000 [==============================] - 92s 9ms/step - loss: 0.0130 - acc: 0.9975 - val_loss: 0.4030 - val_acc: 0.9224\n",
      "Epoch 19/20\n",
      "10000/10000 [==============================] - 92s 9ms/step - loss: 0.0068 - acc: 0.9985 - val_loss: 0.3255 - val_acc: 0.9399\n",
      "Epoch 20/20\n",
      "10000/10000 [==============================] - 92s 9ms/step - loss: 0.0123 - acc: 0.9977 - val_loss: 0.2962 - val_acc: 0.9392\n"
     ]
    },
    {
     "data": {
      "text/plain": [
       "<keras.callbacks.History at 0x7fa8f3c2add0>"
      ]
     },
     "execution_count": 83,
     "metadata": {},
     "output_type": "execute_result"
    }
   ],
   "source": [
    "model.fit(x_train, y_train, batch_size=BATCH_SIZE, epochs=EPOCHS, validation_data=(x_val, y_val))"
   ]
  },
  {
   "cell_type": "code",
   "execution_count": 84,
   "metadata": {},
   "outputs": [],
   "source": [
    "def plot_confusion_matrix(cm, n_classes,\n",
    "                          normalize=False,\n",
    "                          title='Confusion matrix',\n",
    "                          cmap=plt.cm.Blues):\n",
    "    \"\"\"\n",
    "    This function prints and plots the confusion matrix.\n",
    "    Normalization can be applied by setting `normalize=True`.\n",
    "    \"\"\"\n",
    "    fig = plt.figure(figsize=(10, 8)) \n",
    "    fig = plt.rcParams['font.size'] = 15\n",
    "    plt.imshow(cm, interpolation='nearest', cmap=cmap)\n",
    "    plt.title(title)\n",
    "    plt.colorbar()\n",
    "    tick_marks = np.arange(len(n_classes))\n",
    "    plt.xticks(tick_marks, n_classes, rotation=45)\n",
    "    plt.yticks(tick_marks, n_classes)\n",
    "\n",
    "    if normalize:\n",
    "        cm = cm.astype('float') / cm.sum(axis=1)[:, np.newaxis]\n",
    "\n",
    "    thresh = cm.max() / 2.\n",
    "    for i, j in itertools.product(range(cm.shape[0]), range(cm.shape[1])):\n",
    "        plt.text(j, i, round(cm[i, j],2),\n",
    "                 horizontalalignment=\"center\",\n",
    "                 color=\"white\" if cm[i, j] > thresh else \"black\")\n",
    "\n",
    "    plt.tight_layout()\n",
    "    plt.ylabel('True label')\n",
    "    plt.xlabel('Predicted label')\n",
    "    plt.show()"
   ]
  },
  {
   "cell_type": "code",
   "execution_count": 85,
   "metadata": {},
   "outputs": [],
   "source": [
    "from mpu.math import argmax\n",
    "def one_hot2indices(one_hots):\n",
    "    indices = []\n",
    "    for one_hot in one_hots:\n",
    "        indices.append(argmax(one_hot))\n",
    "    return indices"
   ]
  },
  {
   "cell_type": "code",
   "execution_count": 86,
   "metadata": {},
   "outputs": [
    {
     "name": "stdout",
     "output_type": "stream",
     "text": [
      "(6) testing model...\n",
      "accuracy:0.96\n",
      "[[ 98   2   1   0   0]\n",
      " [  0  97   0   0   4]\n",
      " [  0   0 100   0   1]\n",
      " [  0   2   2  86   6]\n",
      " [  0   2   0   0  99]]\n",
      "              precision    recall  f1-score   support\n",
      "\n",
      "           1       1.00      0.97      0.98       101\n",
      "           2       0.94      0.96      0.95       101\n",
      "           3       0.97      0.99      0.98       101\n",
      "           4       1.00      0.90      0.95        96\n",
      "           5       0.90      0.98      0.94       101\n",
      "\n",
      "    accuracy                           0.96       500\n",
      "   macro avg       0.96      0.96      0.96       500\n",
      "weighted avg       0.96      0.96      0.96       500\n",
      "\n"
     ]
    },
    {
     "data": {
      "image/png": "[encoded data removed]",
      "text/plain": [
       "<Figure size 720x576 with 2 Axes>"
      ]
     },
     "metadata": {
      "needs_background": "light"
     },
     "output_type": "display_data"
    }
   ],
   "source": [
    "print('(6) testing model...')\n",
    "from sklearn.metrics import accuracy_score\n",
    "\n",
    "preds = model.predict(x_test)\n",
    "y_true = one_hot2indices(y_test)\n",
    "y_preds = one_hot2indices(preds)\n",
    "print(\"accuracy:\"+ str(accuracy_score(y_true, y_preds)))\n",
    "\n",
    "from sklearn import metrics\n",
    "print(metrics.confusion_matrix(y_true, y_preds))\n",
    "\n",
    "from sklearn.metrics import classification_report\n",
    "print(classification_report(y_pred=y_preds, y_true=y_true))\n",
    "\n",
    "\n",
    "cm = metrics.confusion_matrix(y_true,y_preds)\n",
    "plot_confusion_matrix(cm, n_classes,\n",
    "                      title='Confusion matrix')"
   ]
  },
  {
   "cell_type": "code",
   "execution_count": null,
   "metadata": {},
   "outputs": [],
   "source": []
  }
 ],
 "metadata": {
  "kernelspec": {
   "display_name": "sensors",
   "language": "python",
   "name": "myenv"
  },
  "language_info": {
   "codemirror_mode": {
    "name": "ipython",
    "version": 3
   },
   "file_extension": ".py",
   "mimetype": "text/x-python",
   "name": "python",
   "nbconvert_exporter": "python",
   "pygments_lexer": "ipython3",
   "version": "3.7.5"
  }
 },
 "nbformat": 4,
 "nbformat_minor": 2
}
