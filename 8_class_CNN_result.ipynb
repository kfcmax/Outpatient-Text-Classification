{
 "cells": [
  {
   "cell_type": "code",
   "execution_count": 1,
   "metadata": {},
   "outputs": [
    {
     "name": "stderr",
     "output_type": "stream",
     "text": [
      "Using TensorFlow backend.\n"
     ]
    }
   ],
   "source": [
    "import keras\n",
    "from sklearn import metrics\n",
    "from sklearn.metrics import classification_report\n",
    "import matplotlib.pyplot as plt\n",
    "from numpy import argmax\n",
    "import numpy as np\n",
    "import itertools\n",
    "%matplotlib inline\n",
    "\n",
    "MAX_SEQUENCE_LENGTH = 100\n",
    "EMBEDDING_DIM = 250\n",
    "\n",
    "TEST_SPLIT = 0.2\n",
    "n_classes = [\"Oph\",\"Uro\",\"D\",\"M\",\"S\",\"Ortho\",\"GYN\",\"G&H\"]"
   ]
  },
  {
   "cell_type": "code",
   "execution_count": 2,
   "metadata": {},
   "outputs": [],
   "source": [
    "def plot_confusion_matrix(cm, n_classes,\n",
    "                          normalize=False,\n",
    "                          title='Confusion matrix',\n",
    "                          cmap=plt.cm.Blues):\n",
    "    fig = plt.figure(figsize=(10, 8)) \n",
    "    plt.imshow(cm, interpolation='nearest', cmap=cmap)\n",
    "    plt.rcParams['font.size'] = 15\n",
    "    plt.title(title)\n",
    "    plt.colorbar()\n",
    "    tick_marks = np.arange(len(n_classes))\n",
    "    plt.xticks(tick_marks, n_classes, rotation=45)\n",
    "    plt.yticks(tick_marks, n_classes)\n",
    "    if normalize:\n",
    "        cm = cm.astype('float') / cm.sum(axis=1)[:, np.newaxis]\n",
    "\n",
    "    thresh = cm.max() / 2.\n",
    "    for i, j in itertools.product(range(cm.shape[0]), range(cm.shape[1])):\n",
    "        plt.text(j, i, round(cm[i, j],2),\n",
    "                 horizontalalignment=\"center\",\n",
    "                 color=\"white\" if cm[i, j] > thresh else \"black\")\n",
    "\n",
    "    plt.tight_layout()\n",
    "    plt.ylabel('True label')\n",
    "    plt.xlabel('Predicted label')\n",
    "    plt.show()"
   ]
  },
  {
   "cell_type": "code",
   "execution_count": 3,
   "metadata": {},
   "outputs": [],
   "source": [
    "def one_hot2indices(one_hots):\n",
    "    indices = []\n",
    "    for one_hot in one_hots:\n",
    "        indices.append(argmax(one_hot))\n",
    "    return indices"
   ]
  },
  {
   "cell_type": "code",
   "execution_count": 4,
   "metadata": {},
   "outputs": [],
   "source": [
    "train_texts = open('data/8_class/train_contents.txt').read().split('\\n')\n",
    "train_labels = open('data/8_class/train_labels.txt').read().split('\\n')\n",
    "test_texts = open('data/8_class/test_contents.txt').read().split('\\n')\n",
    "test_labels = open('data/8_class/test_labels.txt').read().split('\\n')\n",
    "all_texts = train_texts + test_texts\n",
    "all_labels = train_labels + test_labels"
   ]
  },
  {
   "cell_type": "code",
   "execution_count": 5,
   "metadata": {},
   "outputs": [
    {
     "name": "stdout",
     "output_type": "stream",
     "text": [
      "(2) doc to var...\n",
      "Found 49531 unique tokens.\n",
      "Shape of data tensor: (21094, 100)\n",
      "Shape of label tensor: (21094, 9)\n"
     ]
    }
   ],
   "source": [
    "print ('(2) doc to var...')\n",
    "from keras.preprocessing.text import Tokenizer\n",
    "from keras.preprocessing.sequence import pad_sequences\n",
    "from keras.utils import to_categorical\n",
    "import numpy as np\n",
    "\n",
    "tokenizer = Tokenizer()\n",
    "tokenizer.fit_on_texts(all_texts)\n",
    "sequences = tokenizer.texts_to_sequences(all_texts)\n",
    "word_index = tokenizer.word_index\n",
    "print('Found %s unique tokens.' % len(word_index))\n",
    "data = pad_sequences(sequences, maxlen=MAX_SEQUENCE_LENGTH)\n",
    "labels = to_categorical(np.asarray(all_labels))\n",
    "print('Shape of data tensor:', data.shape)\n",
    "print('Shape of label tensor:', labels.shape)"
   ]
  },
  {
   "cell_type": "code",
   "execution_count": 6,
   "metadata": {},
   "outputs": [
    {
     "name": "stdout",
     "output_type": "stream",
     "text": [
      "(3) split data set...\n",
      "train docs: 11000\n",
      "val docs: 9294\n",
      "test docs: 800\n"
     ]
    }
   ],
   "source": [
    "print ('(3) split data set...')\n",
    "# split the data into training set, validation set, and test set\n",
    "p1 = 11000\n",
    "p2 = -800\n",
    "x_train = data[:p1]\n",
    "y_train = labels[:p1]\n",
    "x_val = data[p1:p2]\n",
    "y_val = labels[p1:p2]\n",
    "x_test = data[p2:]\n",
    "y_test = labels[p2:]\n",
    "print ('train docs: '+str(len(x_train)))\n",
    "print ('val docs: '+str(len(x_val)))\n",
    "print ('test docs: '+str(len(x_test)))"
   ]
  },
  {
   "cell_type": "markdown",
   "metadata": {},
   "source": [
    "CNN model"
   ]
  },
  {
   "cell_type": "code",
   "execution_count": 7,
   "metadata": {},
   "outputs": [
    {
     "name": "stdout",
     "output_type": "stream",
     "text": [
      "CNN training model...\n"
     ]
    }
   ],
   "source": [
    "print ('CNN training model...')\n",
    "from keras.layers import Dense, Input, Flatten, Dropout\n",
    "from keras.layers import Conv1D, MaxPooling1D, Embedding, GlobalMaxPooling1D\n",
    "from keras.models import Sequential"
   ]
  },
  {
   "cell_type": "code",
   "execution_count": 8,
   "metadata": {},
   "outputs": [
    {
     "name": "stdout",
     "output_type": "stream",
     "text": [
      "WARNING:tensorflow:From /home/n28031108/.conda/envs/cup/lib/python3.7/site-packages/tensorflow/python/ops/resource_variable_ops.py:435: colocate_with (from tensorflow.python.framework.ops) is deprecated and will be removed in a future version.\n",
      "Instructions for updating:\n",
      "Colocations handled automatically by placer.\n",
      "Model: \"sequential_1\"\n",
      "_________________________________________________________________\n",
      "Layer (type)                 Output Shape              Param #   \n",
      "=================================================================\n",
      "embedding_1 (Embedding)      (None, 100, 250)          12383000  \n",
      "_________________________________________________________________\n",
      "dropout_1 (Dropout)          (None, 100, 250)          0         \n",
      "_________________________________________________________________\n",
      "conv1d_1 (Conv1D)            (None, 98, 250)           187750    \n",
      "_________________________________________________________________\n",
      "max_pooling1d_1 (MaxPooling1 (None, 32, 250)           0         \n",
      "_________________________________________________________________\n",
      "flatten_1 (Flatten)          (None, 8000)              0         \n",
      "_________________________________________________________________\n",
      "dense_1 (Dense)              (None, 250)               2000250   \n",
      "_________________________________________________________________\n",
      "dense_2 (Dense)              (None, 9)                 2259      \n",
      "=================================================================\n",
      "Total params: 14,573,259\n",
      "Trainable params: 14,573,259\n",
      "Non-trainable params: 0\n",
      "_________________________________________________________________\n",
      "['loss', 'acc']\n",
      "WARNING:tensorflow:From /home/n28031108/.conda/envs/cup/lib/python3.7/site-packages/tensorflow/python/ops/math_ops.py:3066: to_int32 (from tensorflow.python.ops.math_ops) is deprecated and will be removed in a future version.\n",
      "Instructions for updating:\n",
      "Use tf.cast instead.\n",
      "Train on 11000 samples, validate on 9294 samples\n",
      "Epoch 1/10\n",
      "11000/11000 [==============================] - 3s 238us/step - loss: 1.6238 - acc: 0.4103 - val_loss: 1.0354 - val_acc: 0.6334\n",
      "Epoch 2/10\n",
      "11000/11000 [==============================] - 1s 98us/step - loss: 0.9467 - acc: 0.6581 - val_loss: 0.7601 - val_acc: 0.7365\n",
      "Epoch 3/10\n",
      "11000/11000 [==============================] - 1s 100us/step - loss: 0.5558 - acc: 0.8084 - val_loss: 0.6880 - val_acc: 0.7814\n",
      "Epoch 4/10\n",
      "11000/11000 [==============================] - 1s 98us/step - loss: 0.3369 - acc: 0.8901 - val_loss: 0.6318 - val_acc: 0.8182\n",
      "Epoch 5/10\n",
      "11000/11000 [==============================] - 1s 97us/step - loss: 0.2008 - acc: 0.9385 - val_loss: 0.7500 - val_acc: 0.8130\n",
      "Epoch 6/10\n",
      "11000/11000 [==============================] - 1s 96us/step - loss: 0.1214 - acc: 0.9640 - val_loss: 0.7856 - val_acc: 0.8182\n",
      "Epoch 7/10\n",
      "11000/11000 [==============================] - 1s 98us/step - loss: 0.0672 - acc: 0.9813 - val_loss: 0.9807 - val_acc: 0.8026\n",
      "Epoch 8/10\n",
      "11000/11000 [==============================] - 1s 96us/step - loss: 0.0473 - acc: 0.9871 - val_loss: 1.0368 - val_acc: 0.8090\n",
      "Epoch 9/10\n",
      "11000/11000 [==============================] - 1s 97us/step - loss: 0.0299 - acc: 0.9934 - val_loss: 1.1218 - val_acc: 0.8093\n",
      "Epoch 10/10\n",
      "11000/11000 [==============================] - 1s 96us/step - loss: 0.0231 - acc: 0.9948 - val_loss: 1.3388 - val_acc: 0.7817\n"
     ]
    }
   ],
   "source": [
    "model = Sequential()\n",
    "model.add(Embedding(len(word_index) + 1, EMBEDDING_DIM, input_length=MAX_SEQUENCE_LENGTH))\n",
    "model.add(Dropout(0.2))\n",
    "model.add(Conv1D(250, 3, padding='valid', activation='relu', strides=1))\n",
    "model.add(MaxPooling1D(3))\n",
    "model.add(Flatten())\n",
    "model.add(Dense(EMBEDDING_DIM, activation='relu'))\n",
    "model.add(Dense(labels.shape[1], activation='softmax'))\n",
    "model.summary()\n",
    "#plot_model(model, to_file='model.png',show_shapes=True)\n",
    "\n",
    "model.compile(loss='categorical_crossentropy',\n",
    "              optimizer='rmsprop',\n",
    "              metrics=['acc'])\n",
    "print (model.metrics_names)\n",
    "model.fit(x_train, y_train, validation_data=(x_val, y_val), epochs=10, batch_size=200)\n",
    "model.save('models/8_class_cnn.h5')\n",
    "preds = model.predict(x_test)\n",
    "y_test = one_hot2indices(y_test)\n",
    "preds = one_hot2indices(preds)\n"
   ]
  },
  {
   "cell_type": "code",
   "execution_count": 9,
   "metadata": {},
   "outputs": [
    {
     "name": "stdout",
     "output_type": "stream",
     "text": [
      "CNN testing model...\n",
      "accuracy:0.79875\n",
      "[[ 98   1   2   1   1   0   0   0]\n",
      " [  1 100   0   1   6   2   7   0]\n",
      " [  5   2  83   2   9   0   0   0]\n",
      " [  0   7   1  65   7   6   3  12]\n",
      " [  1   4   1   2  46   5   6  11]\n",
      " [  0   1   0   0   6  90   0   0]\n",
      " [  0   3   1   2   3   0  95   0]\n",
      " [  1   1   0   8  28   1   0  62]]\n"
     ]
    }
   ],
   "source": [
    "print ('CNN testing model...')\n",
    "#print (model.evaluate(x_test, y_test))\n",
    "from sklearn.metrics import accuracy_score\n",
    "print(\"accuracy:\"+ str(accuracy_score(y_test, preds)))\n",
    "\n",
    "cm = metrics.confusion_matrix(y_test,preds)\n",
    "print(cm)\n",
    "\n",
    "\n"
   ]
  },
  {
   "cell_type": "code",
   "execution_count": 10,
   "metadata": {},
   "outputs": [
    {
     "name": "stdout",
     "output_type": "stream",
     "text": [
      "              precision    recall  f1-score   support\n",
      "\n",
      "           1       0.92      0.95      0.94       103\n",
      "           2       0.84      0.85      0.85       117\n",
      "           3       0.94      0.82      0.88       101\n",
      "           4       0.80      0.64      0.71       101\n",
      "           5       0.43      0.61      0.51        76\n",
      "           6       0.87      0.93      0.90        97\n",
      "           7       0.86      0.91      0.88       104\n",
      "           8       0.73      0.61      0.67       101\n",
      "\n",
      "    accuracy                           0.80       800\n",
      "   macro avg       0.80      0.79      0.79       800\n",
      "weighted avg       0.81      0.80      0.80       800\n",
      "\n"
     ]
    }
   ],
   "source": [
    "print(classification_report(y_pred=preds, y_true=y_test))\n"
   ]
  },
  {
   "cell_type": "code",
   "execution_count": 11,
   "metadata": {},
   "outputs": [
    {
     "data": {
      "image/png": "[encoded data removed]",
      "text/plain": [
       "<Figure size 720x576 with 2 Axes>"
      ]
     },
     "metadata": {
      "needs_background": "light"
     },
     "output_type": "display_data"
    }
   ],
   "source": [
    "plot_confusion_matrix(cm, n_classes,\n",
    "                      title='Confusion matrix')"
   ]
  },
  {
   "cell_type": "code",
   "execution_count": null,
   "metadata": {},
   "outputs": [],
   "source": []
  }
 ],
 "metadata": {
  "kernelspec": {
   "display_name": "sensors",
   "language": "python",
   "name": "myenv"
  },
  "language_info": {
   "codemirror_mode": {
    "name": "ipython",
    "version": 3
   },
   "file_extension": ".py",
   "mimetype": "text/x-python",
   "name": "python",
   "nbconvert_exporter": "python",
   "pygments_lexer": "ipython3",
   "version": "3.7.5"
  }
 },
 "nbformat": 4,
 "nbformat_minor": 2
}
