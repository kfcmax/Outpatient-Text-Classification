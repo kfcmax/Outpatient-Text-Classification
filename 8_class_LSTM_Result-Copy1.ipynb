{
 "cells": [
  {
   "cell_type": "code",
   "execution_count": 1,
   "metadata": {},
   "outputs": [
    {
     "name": "stderr",
     "output_type": "stream",
     "text": [
      "Using TensorFlow backend.\n"
     ]
    }
   ],
   "source": [
    "#coding:utf-8\n",
    "\n",
    "import keras\n",
    "from keras import Input, Model\n",
    "from keras.layers import Embedding, Dense, Dropout, Bidirectional, CuDNNLSTM\n",
    "import matplotlib.pyplot as plt\n",
    "import itertools"
   ]
  },
  {
   "cell_type": "code",
   "execution_count": 2,
   "metadata": {},
   "outputs": [],
   "source": [
    "VECTOR_DIR = 'word2vec/word2vec.model.bin'\n",
    "MAX_SEQUENCE_LENGTH = 300\n",
    "EMBEDDING_DIM = 250\n",
    "VALIDATION_SPLIT = 0.16\n",
    "TEST_SPLIT = 0.2\n",
    "max_features = 5000\n",
    "batch_size = 32\n",
    "embedding_dims = 250\n",
    "epochs = 10\n",
    "n_classes = [\"Oph\",\"Uro\",\"D\",\"Ortho\",\"GYN\",\"P\",\"S\",\"G&H\"]"
   ]
  },
  {
   "cell_type": "code",
   "execution_count": 3,
   "metadata": {},
   "outputs": [
    {
     "name": "stdout",
     "output_type": "stream",
     "text": [
      "(1) load texts...\n"
     ]
    }
   ],
   "source": [
    "\n",
    "print ('(1) load texts...')\n",
    "train_texts = open('data/train_contents.txt').read().split('\\n')\n",
    "train_labels = open('data/train_labels.txt').read().split('\\n')\n",
    "test_texts = open('data/test_contents.txt').read().split('\\n')\n",
    "test_labels = open('data/test_labels.txt').read().split('\\n')\n",
    "all_texts = train_texts + test_texts\n",
    "all_labels = train_labels + test_labels"
   ]
  },
  {
   "cell_type": "code",
   "execution_count": 4,
   "metadata": {},
   "outputs": [
    {
     "name": "stdout",
     "output_type": "stream",
     "text": [
      "(2) doc to var...\n"
     ]
    }
   ],
   "source": [
    "print ('(2) doc to var...')\n",
    "from keras.preprocessing.text import Tokenizer\n",
    "from keras.preprocessing.sequence import pad_sequences\n",
    "from keras.utils import to_categorical\n",
    "import numpy as np\n"
   ]
  },
  {
   "cell_type": "code",
   "execution_count": 5,
   "metadata": {},
   "outputs": [
    {
     "name": "stdout",
     "output_type": "stream",
     "text": [
      "Found 51199 unique tokens.\n",
      "Shape of data tensor: (24000, 300)\n",
      "Shape of label tensor: (24000, 9)\n"
     ]
    }
   ],
   "source": [
    "tokenizer = Tokenizer()\n",
    "tokenizer.fit_on_texts(all_texts)\n",
    "sequences = tokenizer.texts_to_sequences(all_texts)\n",
    "word_index = tokenizer.word_index\n",
    "print('Found %s unique tokens.' % len(word_index))\n",
    "data = pad_sequences(sequences, maxlen=MAX_SEQUENCE_LENGTH)\n",
    "labels = to_categorical(np.asarray(all_labels))\n",
    "print('Shape of data tensor:', data.shape)\n",
    "print('Shape of label tensor:', labels.shape)"
   ]
  },
  {
   "cell_type": "code",
   "execution_count": 6,
   "metadata": {},
   "outputs": [
    {
     "name": "stdout",
     "output_type": "stream",
     "text": [
      "(3) split data set...\n",
      "train docs: 15000\n",
      "val docs: 8200\n",
      "test docs: 800\n"
     ]
    }
   ],
   "source": [
    "print ('(3) split data set...')\n",
    "p1 = 15000\n",
    "p2 = -800\n",
    "x_train = data[:p1]\n",
    "y_train = labels[:p1]\n",
    "x_val = data[p1:p2]\n",
    "y_val = labels[p1:p2]\n",
    "x_test = data[p2:]\n",
    "y_test = labels[p2:]\n",
    "\n",
    "print ('train docs: '+str(len(x_train)))\n",
    "print ('val docs: '+str(len(x_val)))\n",
    "print ('test docs: '+str(len(x_test)))\n",
    "\n",
    "from mpu.math import argmax\n",
    "def one_hot2indices(one_hots):\n",
    "    indices = []\n",
    "    for one_hot in one_hots:\n",
    "        indices.append(argmax(one_hot))\n",
    "    return indices"
   ]
  },
  {
   "cell_type": "code",
   "execution_count": 45,
   "metadata": {},
   "outputs": [],
   "source": [
    "embedding_layer = Embedding(len(word_index) + 1,\n",
    "                            EMBEDDING_DIM,\n",
    "                            input_length=MAX_SEQUENCE_LENGTH,\n",
    "                            trainable=False)"
   ]
  },
  {
   "cell_type": "code",
   "execution_count": 46,
   "metadata": {},
   "outputs": [
    {
     "name": "stdout",
     "output_type": "stream",
     "text": [
      "(5) training model...\n",
      "Model: \"sequential_6\"\n",
      "_________________________________________________________________\n",
      "Layer (type)                 Output Shape              Param #   \n",
      "=================================================================\n",
      "embedding_10 (Embedding)     (None, 300, 250)          12800000  \n",
      "_________________________________________________________________\n",
      "lstm_6 (LSTM)                (None, 250)               501000    \n",
      "_________________________________________________________________\n",
      "dense_9 (Dense)              (None, 500)               125500    \n",
      "_________________________________________________________________\n",
      "dropout_6 (Dropout)          (None, 500)               0         \n",
      "_________________________________________________________________\n",
      "dense_10 (Dense)             (None, 9)                 4509      \n",
      "=================================================================\n",
      "Total params: 13,431,009\n",
      "Trainable params: 13,431,009\n",
      "Non-trainable params: 0\n",
      "_________________________________________________________________\n",
      "['loss', 'acc']\n",
      "Train on 15000 samples, validate on 8200 samples\n",
      "Epoch 1/10\n",
      "15000/15000 [==============================] - 22s 1ms/step - loss: 1.6318 - acc: 0.3320 - val_loss: 1.0653 - val_acc: 0.4745\n",
      "Epoch 2/10\n",
      "15000/15000 [==============================] - 22s 1ms/step - loss: 1.0456 - acc: 0.5915 - val_loss: 0.5654 - val_acc: 0.7917\n",
      "Epoch 3/10\n",
      "15000/15000 [==============================] - 21s 1ms/step - loss: 0.6495 - acc: 0.7589 - val_loss: 0.4693 - val_acc: 0.8567\n",
      "Epoch 4/10\n",
      "15000/15000 [==============================] - 21s 1ms/step - loss: 0.3520 - acc: 0.8857 - val_loss: 0.4346 - val_acc: 0.8748\n",
      "Epoch 5/10\n",
      "15000/15000 [==============================] - 22s 1ms/step - loss: 0.2921 - acc: 0.9115 - val_loss: 0.6074 - val_acc: 0.8341\n",
      "Epoch 6/10\n",
      "15000/15000 [==============================] - 22s 1ms/step - loss: 0.1685 - acc: 0.9499 - val_loss: 0.5150 - val_acc: 0.8744\n",
      "Epoch 7/10\n",
      "15000/15000 [==============================] - 22s 1ms/step - loss: 0.0938 - acc: 0.9738 - val_loss: 0.5220 - val_acc: 0.8694\n",
      "Epoch 8/10\n",
      "15000/15000 [==============================] - 22s 1ms/step - loss: 0.0678 - acc: 0.9828 - val_loss: 0.5544 - val_acc: 0.8773\n",
      "Epoch 9/10\n",
      "15000/15000 [==============================] - 21s 1ms/step - loss: 0.0590 - acc: 0.9846 - val_loss: 0.6081 - val_acc: 0.8740\n",
      "Epoch 10/10\n",
      "15000/15000 [==============================] - 21s 1ms/step - loss: 0.0557 - acc: 0.9844 - val_loss: 0.5583 - val_acc: 0.8772\n"
     ]
    }
   ],
   "source": [
    "print ('(5) training model...')\n",
    "from keras.layers import Dense, Input, Flatten, Dropout\n",
    "from keras.layers import LSTM, Embedding\n",
    "from keras.models import Sequential\n",
    "\n",
    "model = Sequential()\n",
    "model.add(Embedding(len(word_index) + 1, EMBEDDING_DIM, input_length=MAX_SEQUENCE_LENGTH))\n",
    "model.add(LSTM(250))\n",
    "model.add(Dense(500, activation='relu'))\n",
    "model.add(Dropout(0.2))\n",
    "model.add(Dense(labels.shape[1], activation='softmax'))\n",
    "model.summary()\n",
    "\n",
    "model.compile(loss='categorical_crossentropy',\n",
    "              optimizer='adam',\n",
    "              metrics=['acc'])\n",
    "print (model.metrics_names)\n",
    "model.fit(x_train, y_train, validation_data=(x_val, y_val), epochs=20, batch_size=200)\n",
    "model.save('models/8_word_vector_lstm.h5')\n"
   ]
  },
  {
   "cell_type": "code",
   "execution_count": 7,
   "metadata": {},
   "outputs": [
    {
     "name": "stdout",
     "output_type": "stream",
     "text": [
      "WARNING:tensorflow:From /home/n28031108/.conda/envs/cup/lib/python3.7/site-packages/tensorflow/python/ops/resource_variable_ops.py:435: colocate_with (from tensorflow.python.framework.ops) is deprecated and will be removed in a future version.\n",
      "Instructions for updating:\n",
      "Colocations handled automatically by placer.\n",
      "WARNING:tensorflow:From /home/n28031108/.conda/envs/cup/lib/python3.7/site-packages/tensorflow/python/ops/math_ops.py:3066: to_int32 (from tensorflow.python.ops.math_ops) is deprecated and will be removed in a future version.\n",
      "Instructions for updating:\n",
      "Use tf.cast instead.\n"
     ]
    }
   ],
   "source": [
    "from keras.models import load_model\n",
    "model = load_model('models/8_word_vector_lstm.h5')"
   ]
  },
  {
   "cell_type": "code",
   "execution_count": 8,
   "metadata": {},
   "outputs": [],
   "source": [
    "def plot_confusion_matrix(cm, n_classes,\n",
    "                          normalize=False,\n",
    "                          title='Confusion matrix',\n",
    "                          cmap=plt.cm.Blues):\n",
    "    \"\"\"\n",
    "    This function prints and plots the confusion matrix.\n",
    "    Normalization can be applied by setting `normalize=True`.\n",
    "    \"\"\"\n",
    "    fig = plt.figure(figsize=(10, 8)) \n",
    "    fig = plt.rcParams['font.size'] = 15\n",
    "    plt.imshow(cm, interpolation='nearest', cmap=cmap)\n",
    "    plt.title(title)\n",
    "    plt.colorbar()\n",
    "    tick_marks = np.arange(len(n_classes))\n",
    "    plt.xticks(tick_marks, n_classes, rotation=45)\n",
    "    plt.yticks(tick_marks, n_classes)\n",
    "\n",
    "    if normalize:\n",
    "        cm = cm.astype('float') / cm.sum(axis=1)[:, np.newaxis]\n",
    "\n",
    "    thresh = cm.max() / 2.\n",
    "    for i, j in itertools.product(range(cm.shape[0]), range(cm.shape[1])):\n",
    "        plt.text(j, i, round(cm[i, j],2),\n",
    "                 horizontalalignment=\"center\",\n",
    "                 color=\"white\" if cm[i, j] > thresh else \"black\")\n",
    "\n",
    "    plt.tight_layout()\n",
    "    plt.ylabel('True label')\n",
    "    plt.xlabel('Predicted label')\n",
    "    plt.show()"
   ]
  },
  {
   "cell_type": "code",
   "execution_count": 9,
   "metadata": {},
   "outputs": [
    {
     "name": "stdout",
     "output_type": "stream",
     "text": [
      "(6) testing model...\n",
      "accuracy:0.94625\n",
      "[[100   0   0   0   0   0   0   0]\n",
      " [  0  99   0   0   0   0   1   0]\n",
      " [  0   0 101   0   0   0   0   0]\n",
      " [  0   0   0  99   1   0   0   0]\n",
      " [  0   2   0   0  97   0   0   0]\n",
      " [  1   0   0   0   0  98   0   0]\n",
      " [  0   1   1   1   1   0  92   4]\n",
      " [  1  10   2   0   5   1  11  71]]\n",
      "              precision    recall  f1-score   support\n",
      "\n",
      "           1       0.98      1.00      0.99       100\n",
      "           2       0.88      0.99      0.93       100\n",
      "           3       0.97      1.00      0.99       101\n",
      "           4       0.99      0.99      0.99       100\n",
      "           5       0.93      0.98      0.96        99\n",
      "           6       0.99      0.99      0.99        99\n",
      "           7       0.88      0.92      0.90       100\n",
      "           8       0.95      0.70      0.81       101\n",
      "\n",
      "    accuracy                           0.95       800\n",
      "   macro avg       0.95      0.95      0.94       800\n",
      "weighted avg       0.95      0.95      0.94       800\n",
      "\n"
     ]
    },
    {
     "data": {
      "image/png": "[encoded data removed]",
      "text/plain": [
       "<Figure size 720x576 with 2 Axes>"
      ]
     },
     "metadata": {
      "needs_background": "light"
     },
     "output_type": "display_data"
    }
   ],
   "source": [
    "print('(6) testing model...')\n",
    "from sklearn.metrics import accuracy_score\n",
    "\n",
    "preds = model.predict(x_test)\n",
    "y_true = one_hot2indices(y_test)\n",
    "y_preds = one_hot2indices(preds)\n",
    "print(\"accuracy:\"+ str(accuracy_score(y_true, y_preds)))\n",
    "\n",
    "from sklearn import metrics\n",
    "print(metrics.confusion_matrix(y_true, y_preds))\n",
    "\n",
    "from sklearn.metrics import classification_report\n",
    "print(classification_report(y_pred=y_preds, y_true=y_true))\n",
    "\n",
    "\n",
    "cm = metrics.confusion_matrix(y_true,y_preds)\n",
    "plot_confusion_matrix(cm, n_classes,\n",
    "                      title='Confusion matrix')"
   ]
  },
  {
   "cell_type": "code",
   "execution_count": null,
   "metadata": {},
   "outputs": [],
   "source": []
  }
 ],
 "metadata": {
  "kernelspec": {
   "display_name": "sensors",
   "language": "python",
   "name": "myenv"
  },
  "language_info": {
   "codemirror_mode": {
    "name": "ipython",
    "version": 3
   },
   "file_extension": ".py",
   "mimetype": "text/x-python",
   "name": "python",
   "nbconvert_exporter": "python",
   "pygments_lexer": "ipython3",
   "version": "3.7.5"
  }
 },
 "nbformat": 4,
 "nbformat_minor": 2
}
