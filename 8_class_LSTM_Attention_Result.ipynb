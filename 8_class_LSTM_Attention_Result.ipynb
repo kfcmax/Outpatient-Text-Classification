{
 "cells": [
  {
   "cell_type": "code",
   "execution_count": null,
   "metadata": {},
   "outputs": [],
   "source": [
    "#coding:utf-8\n",
    "\n",
    "from keras import Input, Model\n",
    "from keras.layers import Embedding, Dense, Dropout, Bidirectional, CuDNNLSTM\n",
    "import matplotlib.pyplot as plt\n",
    "import itertools\n",
    "import tensorflow as tf\n",
    "from keras_preprocessing import sequence\n",
    "from tensorflow import keras\n",
    "from tensorflow.python.keras import Input\n",
    "from tensorflow.python.keras.layers import Concatenate\n",
    "import numpy\n",
    "import keras\n",
    "from keras import backend as K\n",
    "from keras import activations\n",
    "from keras.engine.topology import Layer\n",
    "from keras.preprocessing import sequence\n",
    "from keras.models import Sequential\n",
    "from keras.models import Model\n",
    "from keras.layers import Input, Dense, Embedding, LSTM, Bidirectional\n",
    "K.clear_session()"
   ]
  },
  {
   "cell_type": "code",
   "execution_count": 41,
   "metadata": {},
   "outputs": [],
   "source": [
    "class AttentionLayer(Layer):\n",
    "    def __init__(self, attention_size=None, **kwargs):\n",
    "        self.attention_size = attention_size\n",
    "        super(AttentionLayer, self).__init__(**kwargs)\n",
    "        \n",
    "    def get_config(self):\n",
    "        config = super().get_config()\n",
    "        config['attention_size'] = self.attention_size\n",
    "        return config\n",
    "        \n",
    "    def build(self, input_shape):\n",
    "        assert len(input_shape) == 3\n",
    "        \n",
    "        self.time_steps = input_shape[1]\n",
    "        hidden_size = input_shape[2]\n",
    "        if self.attention_size is None:\n",
    "            self.attention_size = hidden_size\n",
    "            \n",
    "        self.W = self.add_weight(name='att_weight', shape=(hidden_size, self.attention_size),\n",
    "                                initializer='uniform', trainable=True)\n",
    "        self.b = self.add_weight(name='att_bias', shape=(self.attention_size,),\n",
    "                                initializer='uniform', trainable=True)\n",
    "        self.V = self.add_weight(name='att_var', shape=(self.attention_size,),\n",
    "                                initializer='uniform', trainable=True)\n",
    "        super(AttentionLayer, self).build(input_shape)\n",
    "    \n",
    "    def call(self, inputs):\n",
    "        self.V = K.reshape(self.V, (-1, 1))\n",
    "        H = K.tanh(K.dot(inputs, self.W) + self.b)\n",
    "        score = K.softmax(K.dot(H, self.V), axis=1)\n",
    "        outputs = K.sum(score * inputs, axis=1)\n",
    "        return outputs\n",
    "    \n",
    "    def compute_output_shape(self, input_shape):\n",
    "        return input_shape[0], input_shape[2]"
   ]
  },
  {
   "cell_type": "code",
   "execution_count": 42,
   "metadata": {},
   "outputs": [],
   "source": [
    "def create_classify_model(max_len, vocab_size, embedding_size, hidden_size, attention_size, class_nums):\n",
    "\t# 輸入層\n",
    "    inputs = Input(shape=(max_len,), dtype='int32')\n",
    "    # Embedding層\n",
    "    x = Embedding(vocab_size, embedding_size)(inputs)\n",
    "    # BiLSTM層\n",
    "    x = Bidirectional(LSTM(hidden_size, dropout=0.2, return_sequences=True))(x)\n",
    "    # Attention層\n",
    "    x = AttentionLayer(attention_size=attention_size)(x)\n",
    "    # 輸出層\n",
    "    outputs = Dense(class_nums, activation='softmax')(x)\n",
    "    model = Model(inputs=inputs, outputs=outputs)\n",
    "    model.summary() # 輸出模型結構和參數數量\n",
    "    return model"
   ]
  },
  {
   "cell_type": "code",
   "execution_count": 43,
   "metadata": {},
   "outputs": [
    {
     "name": "stdout",
     "output_type": "stream",
     "text": [
      "(1) load texts...\n"
     ]
    }
   ],
   "source": [
    "print ('(1) load texts...')\n",
    "train_texts = open('data/train_contents.txt').read().split('\\n')\n",
    "train_labels = open('data/train_labels.txt').read().split('\\n')\n",
    "test_texts = open('data/test_contents.txt').read().split('\\n')\n",
    "test_labels = open('data/test_labels.txt').read().split('\\n')\n",
    "all_texts = train_texts + test_texts\n",
    "all_labels = train_labels + test_labels"
   ]
  },
  {
   "cell_type": "code",
   "execution_count": 44,
   "metadata": {},
   "outputs": [
    {
     "name": "stdout",
     "output_type": "stream",
     "text": [
      "(2) doc to var...\n"
     ]
    }
   ],
   "source": [
    "print ('(2) doc to var...')\n",
    "from keras.preprocessing.text import Tokenizer\n",
    "from keras.preprocessing.sequence import pad_sequences\n",
    "from keras.utils import to_categorical\n",
    "import numpy as np\n"
   ]
  },
  {
   "cell_type": "code",
   "execution_count": null,
   "metadata": {},
   "outputs": [],
   "source": [
    "tokenizer = Tokenizer()\n",
    "tokenizer.fit_on_texts(all_texts)\n",
    "sequences = tokenizer.texts_to_sequences(all_texts)\n",
    "word_index = tokenizer.word_index\n",
    "print('Found %s unique tokens.' % len(word_index))\n",
    "data = pad_sequences(sequences, maxlen=max_len)\n",
    "labels = to_categorical(np.asarray(all_labels))\n",
    "vocab = tokenizer.word_index\n",
    "print('Shape of data tensor:', data.shape)\n",
    "print('Shape of label tensor:', labels.shape)"
   ]
  },
  {
   "cell_type": "code",
   "execution_count": 64,
   "metadata": {},
   "outputs": [],
   "source": [
    "VOCAB_SIZE = len(vocab)\n",
    "MAX_LEN = 200\n",
    "rnn_cell_size = 128\n",
    "EMBEDDING_SIZE = 100\n",
    "HIDDEN_SIZE = 64\n",
    "ATT_SIZE = 50\n",
    "BATCH_SIZE = 64\n",
    "EPOCHS = 20\n",
    "n_classes = [\"Oph\",\"Uro\",\"D\",\"Ortho\",\"GYN\",\"P\",\"S\",\"G&H\"]\n",
    "CLASS_NUMS = len(n_classes)+1"
   ]
  },
  {
   "cell_type": "code",
   "execution_count": 50,
   "metadata": {},
   "outputs": [
    {
     "name": "stdout",
     "output_type": "stream",
     "text": [
      "(3) split data set...\n",
      "train docs: 15000\n",
      "val docs: 8200\n",
      "test docs: 800\n"
     ]
    }
   ],
   "source": [
    "print ('(3) split data set...')\n",
    "p1 = 15000\n",
    "p2 = -800\n",
    "x_train = data[:p1]\n",
    "y_train = labels[:p1]\n",
    "x_val = data[p1:p2]\n",
    "y_val = labels[p1:p2]\n",
    "x_test = data[p2:]\n",
    "y_test = labels[p2:]\n",
    "\n",
    "print ('train docs: '+str(len(x_train)))\n",
    "print ('val docs: '+str(len(x_val)))\n",
    "print ('test docs: '+str(len(x_test)))\n",
    "\n"
   ]
  },
  {
   "cell_type": "code",
   "execution_count": 12,
   "metadata": {},
   "outputs": [],
   "source": [
    "from mpu.math import argmax\n",
    "def one_hot2indices(one_hots):\n",
    "    indices = []\n",
    "    for one_hot in one_hots:\n",
    "        indices.append(argmax(one_hot))\n",
    "    return indices"
   ]
  },
  {
   "cell_type": "code",
   "execution_count": 65,
   "metadata": {},
   "outputs": [
    {
     "name": "stdout",
     "output_type": "stream",
     "text": [
      "Model: \"model_2\"\n",
      "_________________________________________________________________\n",
      "Layer (type)                 Output Shape              Param #   \n",
      "=================================================================\n",
      "input_2 (InputLayer)         (None, 200)               0         \n",
      "_________________________________________________________________\n",
      "embedding_2 (Embedding)      (None, 200, 100)          5119900   \n",
      "_________________________________________________________________\n",
      "bidirectional_2 (Bidirection (None, 200, 128)          84480     \n",
      "_________________________________________________________________\n",
      "attention_layer_2 (Attention (None, 128)               6500      \n",
      "_________________________________________________________________\n",
      "dense_2 (Dense)              (None, 9)                 1161      \n",
      "=================================================================\n",
      "Total params: 5,212,041\n",
      "Trainable params: 5,212,041\n",
      "Non-trainable params: 0\n",
      "_________________________________________________________________\n"
     ]
    }
   ],
   "source": [
    "# 根據參數創建模型\n",
    "model = create_classify_model(MAX_LEN, VOCAB_SIZE, EMBEDDING_SIZE, HIDDEN_SIZE, ATT_SIZE, CLASS_NUMS)\n",
    "# 選擇損失函數和優化函數\n",
    "model.compile(loss='categorical_crossentropy', optimizer='adam', metrics=['accuracy'])\n"
   ]
  },
  {
   "cell_type": "code",
   "execution_count": null,
   "metadata": {},
   "outputs": [
    {
     "name": "stdout",
     "output_type": "stream",
     "text": [
      "Train on 15000 samples, validate on 8200 samples\n",
      "Epoch 1/20\n",
      "15000/15000 [==============================] - 89s 6ms/step - loss: 0.0063 - accuracy: 0.9981 - val_loss: 0.4751 - val_accuracy: 0.9033\n",
      "Epoch 2/20\n",
      "15000/15000 [==============================] - 89s 6ms/step - loss: 0.0067 - accuracy: 0.9980 - val_loss: 0.4947 - val_accuracy: 0.8993\n",
      "Epoch 3/20\n",
      "15000/15000 [==============================] - 88s 6ms/step - loss: 0.0132 - accuracy: 0.9958 - val_loss: 0.4525 - val_accuracy: 0.9105\n",
      "Epoch 4/20\n",
      "15000/15000 [==============================] - 88s 6ms/step - loss: 0.0082 - accuracy: 0.9977 - val_loss: 0.4523 - val_accuracy: 0.9087\n",
      "Epoch 5/20\n",
      "15000/15000 [==============================] - 87s 6ms/step - loss: 0.0055 - accuracy: 0.9983 - val_loss: 0.5414 - val_accuracy: 0.8898\n",
      "Epoch 6/20\n",
      "15000/15000 [==============================] - 89s 6ms/step - loss: 0.0058 - accuracy: 0.9979 - val_loss: 0.5182 - val_accuracy: 0.9078\n",
      "Epoch 7/20\n",
      "15000/15000 [==============================] - 89s 6ms/step - loss: 0.0123 - accuracy: 0.9962 - val_loss: 0.4785 - val_accuracy: 0.9023\n",
      "Epoch 8/20\n",
      "15000/15000 [==============================] - 89s 6ms/step - loss: 0.0052 - accuracy: 0.9985 - val_loss: 0.4848 - val_accuracy: 0.9040\n",
      "Epoch 9/20\n",
      "15000/15000 [==============================] - 89s 6ms/step - loss: 0.0110 - accuracy: 0.9963 - val_loss: 0.4491 - val_accuracy: 0.9077\n",
      "Epoch 10/20\n",
      "15000/15000 [==============================] - 89s 6ms/step - loss: 0.0047 - accuracy: 0.9983 - val_loss: 0.5229 - val_accuracy: 0.9010\n",
      "Epoch 11/20\n",
      "15000/15000 [==============================] - 87s 6ms/step - loss: 0.0045 - accuracy: 0.9985 - val_loss: 0.5131 - val_accuracy: 0.9026\n",
      "Epoch 12/20\n",
      "15000/15000 [==============================] - 88s 6ms/step - loss: 0.0034 - accuracy: 0.9987 - val_loss: 0.5318 - val_accuracy: 0.9013\n",
      "Epoch 13/20\n",
      "15000/15000 [==============================] - 86s 6ms/step - loss: 0.0032 - accuracy: 0.9989 - val_loss: 0.5244 - val_accuracy: 0.9024\n",
      "Epoch 14/20\n",
      " 3584/15000 [======>.......................] - ETA: 55s - loss: 0.0018 - accuracy: 0.9992"
     ]
    }
   ],
   "source": [
    "model.fit(x_train, y_train, batch_size=BATCH_SIZE, epochs=EPOCHS, validation_data=(x_val, y_val))"
   ]
  },
  {
   "cell_type": "code",
   "execution_count": 67,
   "metadata": {},
   "outputs": [],
   "source": [
    "def plot_confusion_matrix(cm, n_classes,\n",
    "                          normalize=False,\n",
    "                          title='Confusion matrix',\n",
    "                          cmap=plt.cm.Blues):\n",
    "    \"\"\"\n",
    "    This function prints and plots the confusion matrix.\n",
    "    Normalization can be applied by setting `normalize=True`.\n",
    "    \"\"\"\n",
    "    fig = plt.figure(figsize=(10, 8)) \n",
    "    fig = plt.rcParams['font.size'] = 15\n",
    "    plt.imshow(cm, interpolation='nearest', cmap=cmap)\n",
    "    plt.title(title)\n",
    "    plt.colorbar()\n",
    "    tick_marks = np.arange(len(n_classes))\n",
    "    plt.xticks(tick_marks, n_classes, rotation=45)\n",
    "    plt.yticks(tick_marks, n_classes)\n",
    "\n",
    "    if normalize:\n",
    "        cm = cm.astype('float') / cm.sum(axis=1)[:, np.newaxis]\n",
    "\n",
    "    thresh = cm.max() / 2.\n",
    "    for i, j in itertools.product(range(cm.shape[0]), range(cm.shape[1])):\n",
    "        plt.text(j, i, round(cm[i, j],2),\n",
    "                 horizontalalignment=\"center\",\n",
    "                 color=\"white\" if cm[i, j] > thresh else \"black\")\n",
    "\n",
    "    plt.tight_layout()\n",
    "    plt.ylabel('True label')\n",
    "    plt.xlabel('Predicted label')\n",
    "    plt.show()"
   ]
  },
  {
   "cell_type": "code",
   "execution_count": 68,
   "metadata": {},
   "outputs": [
    {
     "name": "stdout",
     "output_type": "stream",
     "text": [
      "(6) testing model...\n",
      "accuracy:0.96\n",
      "[[100   0   0   0   0   0   0   0]\n",
      " [  0  99   0   0   0   0   1   0]\n",
      " [  0   0 101   0   0   0   0   0]\n",
      " [  0   0   0 100   0   0   0   0]\n",
      " [  0   0   0   0  99   0   0   0]\n",
      " [  0   0   0   0   0  99   0   0]\n",
      " [  0   0   0   0   0   0 100   0]\n",
      " [  0   5   1   1   9   1  14  70]]\n",
      "              precision    recall  f1-score   support\n",
      "\n",
      "           1       1.00      1.00      1.00       100\n",
      "           2       0.95      0.99      0.97       100\n",
      "           3       0.99      1.00      1.00       101\n",
      "           4       0.99      1.00      1.00       100\n",
      "           5       0.92      1.00      0.96        99\n",
      "           6       0.99      1.00      0.99        99\n",
      "           7       0.87      1.00      0.93       100\n",
      "           8       1.00      0.69      0.82       101\n",
      "\n",
      "    accuracy                           0.96       800\n",
      "   macro avg       0.96      0.96      0.96       800\n",
      "weighted avg       0.96      0.96      0.96       800\n",
      "\n"
     ]
    },
    {
     "data": {
      "image/png": "[encoded data removed]",
      "text/plain": [
       "<Figure size 720x576 with 2 Axes>"
      ]
     },
     "metadata": {
      "needs_background": "light"
     },
     "output_type": "display_data"
    }
   ],
   "source": [
    "print('(6) testing model...')\n",
    "from sklearn.metrics import accuracy_score\n",
    "\n",
    "preds = model.predict(x_test)\n",
    "y_true = one_hot2indices(y_test)\n",
    "y_preds = one_hot2indices(preds)\n",
    "print(\"accuracy:\"+ str(accuracy_score(y_true, y_preds)))\n",
    "\n",
    "from sklearn import metrics\n",
    "print(metrics.confusion_matrix(y_true, y_preds))\n",
    "\n",
    "from sklearn.metrics import classification_report\n",
    "print(classification_report(y_pred=y_preds, y_true=y_true))\n",
    "\n",
    "\n",
    "cm = metrics.confusion_matrix(y_true,y_preds)\n",
    "plot_confusion_matrix(cm, n_classes,\n",
    "                      title='Confusion matrix')"
   ]
  },
  {
   "cell_type": "code",
   "execution_count": null,
   "metadata": {},
   "outputs": [],
   "source": []
  }
 ],
 "metadata": {
  "kernelspec": {
   "display_name": "sensors",
   "language": "python",
   "name": "myenv"
  },
  "language_info": {
   "codemirror_mode": {
    "name": "ipython",
    "version": 3
   },
   "file_extension": ".py",
   "mimetype": "text/x-python",
   "name": "python",
   "nbconvert_exporter": "python",
   "pygments_lexer": "ipython3",
   "version": "3.7.5"
  }
 },
 "nbformat": 4,
 "nbformat_minor": 2
}
