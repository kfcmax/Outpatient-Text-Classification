{
 "cells": [
  {
   "cell_type": "code",
   "execution_count": null,
   "metadata": {},
   "outputs": [],
   "source": [
    "import keras\n",
    "from sklearn import metrics\n",
    "from sklearn.metrics import classification_report\n",
    "import matplotlib.pyplot as plt\n",
    "from numpy import argmax\n",
    "import numpy as np\n",
    "import itertools\n",
    "%matplotlib inline\n",
    "\n",
    "MAX_SEQUENCE_LENGTH = 50\n",
    "EMBEDDING_DIM = 250\n",
    "\n",
    "TEST_SPLIT = 0.2\n",
    "n_classes = [\"Oph\",\"Uro\",\"D\",\"Ortho\",\"GYN\",\"P\",\"S\",\"G&H\"]"
   ]
  },
  {
   "cell_type": "code",
   "execution_count": 2,
   "metadata": {},
   "outputs": [],
   "source": [
    "def plot_confusion_matrix(cm, n_classes,\n",
    "                          normalize=False,\n",
    "                          title='Confusion matrix',\n",
    "                          cmap=plt.cm.Blues):\n",
    "    fig = plt.figure(figsize=(10, 8)) \n",
    "    plt.imshow(cm, interpolation='nearest', cmap=cmap)\n",
    "    plt.rcParams['font.size'] = 15\n",
    "    plt.title(title)\n",
    "    plt.colorbar()\n",
    "    tick_marks = np.arange(len(n_classes))\n",
    "    plt.xticks(tick_marks, n_classes, rotation=45)\n",
    "    plt.yticks(tick_marks, n_classes)\n",
    "    if normalize:\n",
    "        cm = cm.astype('float') / cm.sum(axis=1)[:, np.newaxis]\n",
    "\n",
    "    thresh = cm.max() / 2.\n",
    "    for i, j in itertools.product(range(cm.shape[0]), range(cm.shape[1])):\n",
    "        plt.text(j, i, round(cm[i, j],2),\n",
    "                 horizontalalignment=\"center\",\n",
    "                 color=\"white\" if cm[i, j] > thresh else \"black\")\n",
    "\n",
    "    plt.tight_layout()\n",
    "    plt.ylabel('True label')\n",
    "    plt.xlabel('Predicted label')\n",
    "    plt.show()"
   ]
  },
  {
   "cell_type": "code",
   "execution_count": 3,
   "metadata": {},
   "outputs": [],
   "source": [
    "def one_hot2indices(one_hots):\n",
    "    indices = []\n",
    "    for one_hot in one_hots:\n",
    "        indices.append(argmax(one_hot))\n",
    "    return indices"
   ]
  },
  {
   "cell_type": "code",
   "execution_count": 4,
   "metadata": {},
   "outputs": [],
   "source": [
    "train_texts = open('data/train_contents.txt').read().split('\\n')\n",
    "train_labels = open('data/train_labels.txt').read().split('\\n')\n",
    "test_texts = open('data/test_contents.txt').read().split('\\n')\n",
    "test_labels = open('data/test_labels.txt').read().split('\\n')\n",
    "all_texts = train_texts + test_texts\n",
    "all_labels = train_labels + test_labels"
   ]
  },
  {
   "cell_type": "code",
   "execution_count": 5,
   "metadata": {},
   "outputs": [
    {
     "name": "stdout",
     "output_type": "stream",
     "text": [
      "(2) doc to var...\n",
      "Found 51199 unique tokens.\n",
      "Shape of data tensor: (24000, 50)\n",
      "Shape of label tensor: (24000, 9)\n"
     ]
    }
   ],
   "source": [
    "print ('(2) doc to var...')\n",
    "from keras.preprocessing.text import Tokenizer\n",
    "from keras.preprocessing.sequence import pad_sequences\n",
    "from keras.utils import to_categorical\n",
    "import numpy as np\n",
    "\n",
    "tokenizer = Tokenizer()\n",
    "tokenizer.fit_on_texts(all_texts)\n",
    "sequences = tokenizer.texts_to_sequences(all_texts)\n",
    "word_index = tokenizer.word_index\n",
    "print('Found %s unique tokens.' % len(word_index))\n",
    "data = pad_sequences(sequences, maxlen=MAX_SEQUENCE_LENGTH)\n",
    "labels = to_categorical(np.asarray(all_labels))\n",
    "print('Shape of data tensor:', data.shape)\n",
    "print('Shape of label tensor:', labels.shape)"
   ]
  },
  {
   "cell_type": "code",
   "execution_count": 6,
   "metadata": {},
   "outputs": [
    {
     "name": "stdout",
     "output_type": "stream",
     "text": [
      "(3) split data set...\n",
      "train docs: 11000\n",
      "val docs: 12200\n",
      "test docs: 800\n"
     ]
    }
   ],
   "source": [
    "print ('(3) split data set...')\n",
    "# split the data into training set, validation set, and test set\n",
    "p1 = 11000\n",
    "p2 = -800\n",
    "x_train = data[:p1]\n",
    "y_train = labels[:p1]\n",
    "x_val = data[p1:p2]\n",
    "y_val = labels[p1:p2]\n",
    "x_test = data[p2:]\n",
    "y_test = labels[p2:]\n",
    "print ('train docs: '+str(len(x_train)))\n",
    "print ('val docs: '+str(len(x_val)))\n",
    "print ('test docs: '+str(len(x_test)))"
   ]
  },
  {
   "cell_type": "markdown",
   "metadata": {},
   "source": [
    "CNN model"
   ]
  },
  {
   "cell_type": "code",
   "execution_count": 7,
   "metadata": {},
   "outputs": [
    {
     "name": "stdout",
     "output_type": "stream",
     "text": [
      "CNN training model...\n"
     ]
    }
   ],
   "source": [
    "print ('CNN training model...')\n",
    "from keras.layers import Dense, Input, Flatten, Dropout\n",
    "from keras.layers import Conv1D, MaxPooling1D, Embedding, GlobalMaxPooling1D\n",
    "from keras.models import Sequential"
   ]
  },
  {
   "cell_type": "code",
   "execution_count": 8,
   "metadata": {},
   "outputs": [
    {
     "name": "stdout",
     "output_type": "stream",
     "text": [
      "WARNING:tensorflow:From /home/n28031108/.conda/envs/cup/lib/python3.7/site-packages/tensorflow/python/ops/resource_variable_ops.py:435: colocate_with (from tensorflow.python.framework.ops) is deprecated and will be removed in a future version.\n",
      "Instructions for updating:\n",
      "Colocations handled automatically by placer.\n",
      "Model: \"sequential_1\"\n",
      "_________________________________________________________________\n",
      "Layer (type)                 Output Shape              Param #   \n",
      "=================================================================\n",
      "embedding_1 (Embedding)      (None, 50, 250)           12800000  \n",
      "_________________________________________________________________\n",
      "dropout_1 (Dropout)          (None, 50, 250)           0         \n",
      "_________________________________________________________________\n",
      "conv1d_1 (Conv1D)            (None, 48, 250)           187750    \n",
      "_________________________________________________________________\n",
      "max_pooling1d_1 (MaxPooling1 (None, 16, 250)           0         \n",
      "_________________________________________________________________\n",
      "flatten_1 (Flatten)          (None, 4000)              0         \n",
      "_________________________________________________________________\n",
      "dense_1 (Dense)              (None, 250)               1000250   \n",
      "_________________________________________________________________\n",
      "dense_2 (Dense)              (None, 9)                 2259      \n",
      "=================================================================\n",
      "Total params: 13,990,259\n",
      "Trainable params: 13,990,259\n",
      "Non-trainable params: 0\n",
      "_________________________________________________________________\n",
      "['loss', 'acc']\n",
      "WARNING:tensorflow:From /home/n28031108/.conda/envs/cup/lib/python3.7/site-packages/tensorflow/python/ops/math_ops.py:3066: to_int32 (from tensorflow.python.ops.math_ops) is deprecated and will be removed in a future version.\n",
      "Instructions for updating:\n",
      "Use tf.cast instead.\n",
      "Train on 11000 samples, validate on 12200 samples\n",
      "Epoch 1/10\n",
      "11000/11000 [==============================] - 2s 224us/step - loss: 1.5974 - acc: 0.4178 - val_loss: 0.9354 - val_acc: 0.6799\n",
      "Epoch 2/10\n",
      "11000/11000 [==============================] - 1s 79us/step - loss: 0.9599 - acc: 0.6646 - val_loss: 0.7172 - val_acc: 0.7641\n",
      "Epoch 3/10\n",
      "11000/11000 [==============================] - 1s 79us/step - loss: 0.5531 - acc: 0.8218 - val_loss: 0.6486 - val_acc: 0.7954\n",
      "Epoch 4/10\n",
      "11000/11000 [==============================] - 1s 77us/step - loss: 0.3124 - acc: 0.9000 - val_loss: 0.6373 - val_acc: 0.8139\n",
      "Epoch 5/10\n",
      "11000/11000 [==============================] - 1s 79us/step - loss: 0.1763 - acc: 0.9458 - val_loss: 0.6643 - val_acc: 0.8302\n",
      "Epoch 6/10\n",
      "11000/11000 [==============================] - 1s 80us/step - loss: 0.0959 - acc: 0.9735 - val_loss: 0.8587 - val_acc: 0.8088\n",
      "Epoch 7/10\n",
      "11000/11000 [==============================] - 1s 80us/step - loss: 0.0523 - acc: 0.9863 - val_loss: 0.9345 - val_acc: 0.8051\n",
      "Epoch 8/10\n",
      "11000/11000 [==============================] - 1s 80us/step - loss: 0.0332 - acc: 0.9925 - val_loss: 1.1269 - val_acc: 0.7925\n",
      "Epoch 9/10\n",
      "11000/11000 [==============================] - 1s 81us/step - loss: 0.0231 - acc: 0.9955 - val_loss: 1.0681 - val_acc: 0.8110\n",
      "Epoch 10/10\n",
      "11000/11000 [==============================] - 1s 80us/step - loss: 0.0223 - acc: 0.9954 - val_loss: 1.0526 - val_acc: 0.8288\n"
     ]
    }
   ],
   "source": [
    "model = Sequential()\n",
    "model.add(Embedding(len(word_index) + 1, EMBEDDING_DIM, input_length=MAX_SEQUENCE_LENGTH))\n",
    "model.add(Dropout(0.2))\n",
    "model.add(Conv1D(250, 3, padding='valid', activation='relu', strides=1))\n",
    "model.add(MaxPooling1D(3))\n",
    "model.add(Flatten())\n",
    "model.add(Dense(EMBEDDING_DIM, activation='relu'))\n",
    "model.add(Dense(labels.shape[1], activation='softmax'))\n",
    "model.summary()\n",
    "#plot_model(model, to_file='model.png',show_shapes=True)\n",
    "\n",
    "model.compile(loss='categorical_crossentropy',\n",
    "              optimizer='rmsprop',\n",
    "              metrics=['acc'])\n",
    "print (model.metrics_names)\n",
    "model.fit(x_train, y_train, validation_data=(x_val, y_val), epochs=10, batch_size=200)\n",
    "model.save('models/8_class_cnn.h5')\n"
   ]
  },
  {
   "cell_type": "code",
   "execution_count": 7,
   "metadata": {},
   "outputs": [
    {
     "name": "stdout",
     "output_type": "stream",
     "text": [
      "WARNING:tensorflow:From /home/n28031108/.conda/envs/cup/lib/python3.7/site-packages/tensorflow/python/ops/resource_variable_ops.py:435: colocate_with (from tensorflow.python.framework.ops) is deprecated and will be removed in a future version.\n",
      "Instructions for updating:\n",
      "Colocations handled automatically by placer.\n",
      "WARNING:tensorflow:From /home/n28031108/.conda/envs/cup/lib/python3.7/site-packages/tensorflow/python/ops/math_ops.py:3066: to_int32 (from tensorflow.python.ops.math_ops) is deprecated and will be removed in a future version.\n",
      "Instructions for updating:\n",
      "Use tf.cast instead.\n"
     ]
    }
   ],
   "source": [
    "from keras.models import load_model\n",
    "model = load_model('models/8_class_cnn.h5')"
   ]
  },
  {
   "cell_type": "code",
   "execution_count": 11,
   "metadata": {},
   "outputs": [
    {
     "name": "stdout",
     "output_type": "stream",
     "text": [
      "CNN testing model...\n",
      "accuracy:0.9375\n",
      "[[100   0   0   0   0   0   0   0]\n",
      " [  0  99   0   0   0   0   1   0]\n",
      " [  0   0 101   0   0   0   0   0]\n",
      " [  0   0   0  99   1   0   0   0]\n",
      " [  0   0   0   0  99   0   0   0]\n",
      " [  0   0   0   0   0  99   0   0]\n",
      " [  0   3   0   1   0   0  96   0]\n",
      " [  3  16   0   4  10   5   6  57]]\n"
     ]
    }
   ],
   "source": [
    "print ('CNN testing model...')\n",
    "#print (model.evaluate(x_test, y_test))\n",
    "\n",
    "preds = model.predict(x_test)\n",
    "y_test = one_hot2indices(y_test)\n",
    "preds = one_hot2indices(preds)\n",
    "\n",
    "from sklearn.metrics import accuracy_score\n",
    "print(\"accuracy:\"+ str(accuracy_score(y_test, preds)))\n",
    "\n",
    "cm = metrics.confusion_matrix(y_test,preds)\n",
    "print(cm)\n",
    "\n",
    "\n"
   ]
  },
  {
   "cell_type": "code",
   "execution_count": 12,
   "metadata": {},
   "outputs": [
    {
     "name": "stdout",
     "output_type": "stream",
     "text": [
      "              precision    recall  f1-score   support\n",
      "\n",
      "           1       0.97      1.00      0.99       100\n",
      "           2       0.84      0.99      0.91       100\n",
      "           3       1.00      1.00      1.00       101\n",
      "           4       0.95      0.99      0.97       100\n",
      "           5       0.90      1.00      0.95        99\n",
      "           6       0.95      1.00      0.98        99\n",
      "           7       0.93      0.96      0.95       100\n",
      "           8       1.00      0.56      0.72       101\n",
      "\n",
      "    accuracy                           0.94       800\n",
      "   macro avg       0.94      0.94      0.93       800\n",
      "weighted avg       0.94      0.94      0.93       800\n",
      "\n"
     ]
    }
   ],
   "source": [
    "print(classification_report(y_pred=preds, y_true=y_test))\n"
   ]
  },
  {
   "cell_type": "code",
   "execution_count": 15,
   "metadata": {},
   "outputs": [
    {
     "data": {
      "image/png": "[encoded data removed]",
      "text/plain": [
       "<Figure size 720x576 with 2 Axes>"
      ]
     },
     "metadata": {
      "needs_background": "light"
     },
     "output_type": "display_data"
    }
   ],
   "source": [
    "plot_confusion_matrix(cm, n_classes,\n",
    "                      title='Confusion matrix')"
   ]
  },
  {
   "cell_type": "code",
   "execution_count": null,
   "metadata": {},
   "outputs": [],
   "source": []
  }
 ],
 "metadata": {
  "kernelspec": {
   "display_name": "sensors",
   "language": "python",
   "name": "myenv"
  }
 },
 "nbformat": 4,
 "nbformat_minor": 2
}
