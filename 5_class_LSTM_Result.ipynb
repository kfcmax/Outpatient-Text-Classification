{
 "cells": [
  {
   "cell_type": "code",
   "execution_count": 1,
   "metadata": {},
   "outputs": [
    {
     "name": "stderr",
     "output_type": "stream",
     "text": [
      "Using TensorFlow backend.\n"
     ]
    }
   ],
   "source": [
    "#coding:utf-8\n",
    "\n",
    "import keras\n",
    "from keras import Input, Model\n",
    "from keras.layers import Embedding, Dense, Dropout, Bidirectional, CuDNNLSTM\n",
    "import matplotlib.pyplot as plt\n",
    "import itertools"
   ]
  },
  {
   "cell_type": "code",
   "execution_count": 2,
   "metadata": {},
   "outputs": [],
   "source": [
    "VECTOR_DIR = 'word2vec.model.bin'\n",
    "\n",
    "maxlen = 100\n",
    "MAX_SEQUENCE_LENGTH = 100\n",
    "EMBEDDING_DIM = 250\n",
    "VALIDATION_SPLIT = 0.16\n",
    "TEST_SPLIT = 0.2\n",
    "max_features = 5000\n",
    "batch_size = 32\n",
    "embedding_dims = 250\n",
    "epochs = 10\n",
    "n_class = [\"Oph\",\"Uro\",\"D\",\"Ortho\",\"GYN\"]"
   ]
  },
  {
   "cell_type": "code",
   "execution_count": 3,
   "metadata": {},
   "outputs": [
    {
     "name": "stdout",
     "output_type": "stream",
     "text": [
      "(1) load texts...\n"
     ]
    }
   ],
   "source": [
    "\n",
    "print ('(1) load texts...')\n",
    "train_texts = open('data/5_class/train_contents.txt').read().split('\\n')\n",
    "train_labels = open('data/5_class/train_labels.txt').read().split('\\n')\n",
    "test_texts = open('data/5_class/test_contents.txt').read().split('\\n')\n",
    "test_labels = open('data/5_class/test_labels.txt').read().split('\\n')\n",
    "all_texts = train_texts + test_texts\n",
    "all_labels = train_labels + test_labels"
   ]
  },
  {
   "cell_type": "code",
   "execution_count": 4,
   "metadata": {},
   "outputs": [
    {
     "name": "stdout",
     "output_type": "stream",
     "text": [
      "(2) doc to var...\n"
     ]
    }
   ],
   "source": [
    "print ('(2) doc to var...')\n",
    "from keras.preprocessing.text import Tokenizer\n",
    "from keras.preprocessing.sequence import pad_sequences\n",
    "from keras.utils import to_categorical\n",
    "import numpy as np\n"
   ]
  },
  {
   "cell_type": "code",
   "execution_count": 5,
   "metadata": {},
   "outputs": [
    {
     "name": "stdout",
     "output_type": "stream",
     "text": [
      "Found 41439 unique tokens.\n",
      "Shape of data tensor: (16155, 100)\n",
      "Shape of label tensor: (16155, 6)\n"
     ]
    }
   ],
   "source": [
    "tokenizer = Tokenizer()\n",
    "tokenizer.fit_on_texts(all_texts)\n",
    "sequences = tokenizer.texts_to_sequences(all_texts)\n",
    "word_index = tokenizer.word_index\n",
    "print('Found %s unique tokens.' % len(word_index))\n",
    "data = pad_sequences(sequences, maxlen=MAX_SEQUENCE_LENGTH)\n",
    "labels = to_categorical(np.asarray(all_labels))\n",
    "print('Shape of data tensor:', data.shape)\n",
    "print('Shape of label tensor:', labels.shape)"
   ]
  },
  {
   "cell_type": "code",
   "execution_count": 6,
   "metadata": {},
   "outputs": [
    {
     "name": "stdout",
     "output_type": "stream",
     "text": [
      "(3) split data set...\n",
      "train docs: 11000\n",
      "val docs: 4655\n",
      "test docs: 500\n"
     ]
    }
   ],
   "source": [
    "print ('(3) split data set...')\n",
    "p1 = 11000\n",
    "p2 = 15655\n",
    "x_train = data[:p1]\n",
    "y_train = labels[:p1]\n",
    "x_val = data[p1:p2]\n",
    "y_val = labels[p1:p2]\n",
    "x_test = data[p2:]\n",
    "y_test = labels[p2:]\n",
    "\n",
    "print ('train docs: '+str(len(x_train)))\n",
    "print ('val docs: '+str(len(x_val)))\n",
    "print ('test docs: '+str(len(x_test)))\n",
    "\n",
    "from mpu.math import argmax\n",
    "def one_hot2indices(one_hots):\n",
    "    indices = []\n",
    "    for one_hot in one_hots:\n",
    "        indices.append(argmax(one_hot))\n",
    "    return indices"
   ]
  },
  {
   "cell_type": "code",
   "execution_count": 7,
   "metadata": {},
   "outputs": [],
   "source": [
    "embedding_layer = Embedding(len(word_index) + 1,\n",
    "                            EMBEDDING_DIM,\n",
    "                            input_length=MAX_SEQUENCE_LENGTH,\n",
    "                            trainable=False)"
   ]
  },
  {
   "cell_type": "code",
   "execution_count": 18,
   "metadata": {},
   "outputs": [
    {
     "name": "stdout",
     "output_type": "stream",
     "text": [
      "(5) training model...\n",
      "Model: \"sequential_4\"\n",
      "_________________________________________________________________\n",
      "Layer (type)                 Output Shape              Param #   \n",
      "=================================================================\n",
      "embedding_5 (Embedding)      (None, 100, 250)          10360000  \n",
      "_________________________________________________________________\n",
      "lstm_4 (LSTM)                (None, 250)               501000    \n",
      "_________________________________________________________________\n",
      "dropout_4 (Dropout)          (None, 250)               0         \n",
      "_________________________________________________________________\n",
      "dense_4 (Dense)              (None, 6)                 1506      \n",
      "=================================================================\n",
      "Total params: 10,862,506\n",
      "Trainable params: 10,862,506\n",
      "Non-trainable params: 0\n",
      "_________________________________________________________________\n",
      "['loss', 'acc']\n",
      "Train on 11000 samples, validate on 4655 samples\n",
      "Epoch 1/20\n",
      "11000/11000 [==============================] - 6s 574us/step - loss: 1.4321 - acc: 0.4090 - val_loss: 1.0815 - val_acc: 0.5523\n",
      "Epoch 2/20\n",
      "11000/11000 [==============================] - 6s 528us/step - loss: 0.8574 - acc: 0.6718 - val_loss: 0.5041 - val_acc: 0.8045\n",
      "Epoch 3/20\n",
      "11000/11000 [==============================] - 6s 540us/step - loss: 0.5198 - acc: 0.8078 - val_loss: 0.4296 - val_acc: 0.8404\n",
      "Epoch 4/20\n",
      "11000/11000 [==============================] - 6s 528us/step - loss: 0.3538 - acc: 0.8924 - val_loss: 0.3984 - val_acc: 0.8870\n",
      "Epoch 5/20\n",
      "11000/11000 [==============================] - 6s 518us/step - loss: 0.2268 - acc: 0.9418 - val_loss: 0.2487 - val_acc: 0.9302\n",
      "Epoch 6/20\n",
      "11000/11000 [==============================] - 6s 525us/step - loss: 0.1584 - acc: 0.9605 - val_loss: 0.2620 - val_acc: 0.9274\n",
      "Epoch 7/20\n",
      "11000/11000 [==============================] - 6s 519us/step - loss: 0.1264 - acc: 0.9698 - val_loss: 0.2523 - val_acc: 0.9437\n",
      "Epoch 8/20\n",
      "11000/11000 [==============================] - 6s 537us/step - loss: 0.0982 - acc: 0.9754 - val_loss: 0.2286 - val_acc: 0.9411\n",
      "Epoch 9/20\n",
      "11000/11000 [==============================] - 6s 537us/step - loss: 0.0955 - acc: 0.9772 - val_loss: 0.3680 - val_acc: 0.9169\n",
      "Epoch 10/20\n",
      "11000/11000 [==============================] - 6s 514us/step - loss: 0.0711 - acc: 0.9821 - val_loss: 0.2315 - val_acc: 0.9459\n",
      "Epoch 11/20\n",
      "11000/11000 [==============================] - 6s 526us/step - loss: 0.0635 - acc: 0.9839 - val_loss: 0.2467 - val_acc: 0.9373\n",
      "Epoch 12/20\n",
      "11000/11000 [==============================] - 6s 518us/step - loss: 0.0403 - acc: 0.9900 - val_loss: 0.2603 - val_acc: 0.9383\n",
      "Epoch 13/20\n",
      "11000/11000 [==============================] - 6s 519us/step - loss: 0.0416 - acc: 0.9895 - val_loss: 0.2879 - val_acc: 0.9186\n",
      "Epoch 14/20\n",
      "11000/11000 [==============================] - 6s 527us/step - loss: 0.0309 - acc: 0.9921 - val_loss: 0.3136 - val_acc: 0.9280\n",
      "Epoch 15/20\n",
      "11000/11000 [==============================] - 6s 525us/step - loss: 0.0262 - acc: 0.9940 - val_loss: 0.2779 - val_acc: 0.9338\n",
      "Epoch 16/20\n",
      "11000/11000 [==============================] - 6s 524us/step - loss: 0.0232 - acc: 0.9952 - val_loss: 0.3409 - val_acc: 0.9353\n",
      "Epoch 17/20\n",
      "11000/11000 [==============================] - 6s 524us/step - loss: 0.0205 - acc: 0.9957 - val_loss: 0.5012 - val_acc: 0.8812\n",
      "Epoch 18/20\n",
      "11000/11000 [==============================] - 6s 518us/step - loss: 0.0197 - acc: 0.9959 - val_loss: 0.3195 - val_acc: 0.9317\n",
      "Epoch 19/20\n",
      "11000/11000 [==============================] - 6s 518us/step - loss: 0.0192 - acc: 0.9956 - val_loss: 0.3011 - val_acc: 0.9418\n",
      "Epoch 20/20\n",
      "11000/11000 [==============================] - 6s 519us/step - loss: 0.0140 - acc: 0.9965 - val_loss: 0.4675 - val_acc: 0.9242\n"
     ]
    }
   ],
   "source": [
    "print ('(5) training model...')\n",
    "from keras.layers import Dense, Input, Flatten, Dropout\n",
    "from keras.layers import LSTM, Embedding\n",
    "from keras.models import Sequential\n",
    "\n",
    "model = Sequential()\n",
    "model.add(Embedding(len(word_index) + 1, EMBEDDING_DIM, input_length=MAX_SEQUENCE_LENGTH))\n",
    "model.add(LSTM(250, dropout=0.2, recurrent_dropout=0.2))\n",
    "model.add(Dropout(0.2))\n",
    "model.add(Dense(labels.shape[1], activation='softmax'))\n",
    "model.summary()\n",
    "\n",
    "model.compile(loss='categorical_crossentropy',\n",
    "              optimizer='rmsprop',\n",
    "              metrics=['acc'])\n",
    "print (model.metrics_names)\n",
    "model.fit(x_train, y_train, validation_data=(x_val, y_val), epochs=20, batch_size=200)\n",
    "model.save('models/5_class_word_vector_lstm.h5')\n"
   ]
  },
  {
   "cell_type": "code",
   "execution_count": 7,
   "metadata": {},
   "outputs": [
    {
     "name": "stdout",
     "output_type": "stream",
     "text": [
      "WARNING:tensorflow:From /home/n28031108/.conda/envs/cup/lib/python3.7/site-packages/tensorflow/python/ops/resource_variable_ops.py:435: colocate_with (from tensorflow.python.framework.ops) is deprecated and will be removed in a future version.\n",
      "Instructions for updating:\n",
      "Colocations handled automatically by placer.\n",
      "WARNING:tensorflow:From /home/n28031108/.conda/envs/cup/lib/python3.7/site-packages/tensorflow/python/ops/math_ops.py:3066: to_int32 (from tensorflow.python.ops.math_ops) is deprecated and will be removed in a future version.\n",
      "Instructions for updating:\n",
      "Use tf.cast instead.\n"
     ]
    }
   ],
   "source": [
    "from keras.models import load_model\n",
    "model = load_model('models/5_class_word_vector_lstm.h5')"
   ]
  },
  {
   "cell_type": "code",
   "execution_count": 19,
   "metadata": {},
   "outputs": [],
   "source": [
    "def plot_confusion_matrix(cm, classes,\n",
    "                          normalize=False,\n",
    "                          title='Confusion matrix',\n",
    "                          cmap=plt.cm.Blues):\n",
    "    \"\"\"\n",
    "    This function prints and plots the confusion matrix.\n",
    "    Normalization can be applied by setting `normalize=True`.\n",
    "    \"\"\"\n",
    "    fig = plt.figure(figsize=(10, 8))\n",
    "    plt.rcParams['font.size'] = 15\n",
    "    plt.imshow(cm, interpolation='nearest', cmap=cmap)\n",
    "    plt.title(title)\n",
    "    plt.colorbar()\n",
    "    tick_marks = np.arange(len(classes))\n",
    "    plt.xticks(tick_marks, classes, rotation=45)\n",
    "    plt.yticks(tick_marks, classes)\n",
    "\n",
    "    if normalize:\n",
    "        cm = cm.astype('float') / cm.sum(axis=1)[:, np.newaxis]\n",
    "\n",
    "    thresh = cm.max() / 2.\n",
    "    for i, j in itertools.product(range(cm.shape[0]), range(cm.shape[1])):\n",
    "        plt.text(j, i, cm[i, j],\n",
    "                 horizontalalignment=\"center\",\n",
    "                 color=\"white\" if cm[i, j] > thresh else \"black\")\n",
    "\n",
    "    plt.tight_layout()\n",
    "    plt.ylabel('True label')\n",
    "    plt.xlabel('Predicted label')\n",
    "    plt.show()"
   ]
  },
  {
   "cell_type": "code",
   "execution_count": 20,
   "metadata": {},
   "outputs": [
    {
     "name": "stdout",
     "output_type": "stream",
     "text": [
      "(6) testing model...\n",
      "accuracy:0.956\n",
      "[[ 99   2   0   0   0]\n",
      " [  0 100   0   0   1]\n",
      " [  0   4  96   0   1]\n",
      " [  0   6   1  88   1]\n",
      " [  0   5   0   1  95]]\n",
      "              precision    recall  f1-score   support\n",
      "\n",
      "           1       1.00      0.98      0.99       101\n",
      "           2       0.85      0.99      0.92       101\n",
      "           3       0.99      0.95      0.97       101\n",
      "           4       0.99      0.92      0.95        96\n",
      "           5       0.97      0.94      0.95       101\n",
      "\n",
      "    accuracy                           0.96       500\n",
      "   macro avg       0.96      0.96      0.96       500\n",
      "weighted avg       0.96      0.96      0.96       500\n",
      "\n"
     ]
    },
    {
     "data": {
      "image/png": "[encoded data removed]",
      "text/plain": [
       "<Figure size 720x576 with 2 Axes>"
      ]
     },
     "metadata": {
      "needs_background": "light"
     },
     "output_type": "display_data"
    }
   ],
   "source": [
    "print('(6) testing model...')\n",
    "from sklearn.metrics import accuracy_score\n",
    "\n",
    "preds = model.predict(x_test)\n",
    "#y_test = one_hot2indices(y_test)\n",
    "preds = one_hot2indices(preds)\n",
    "print(\"accuracy:\"+ str(accuracy_score(y_test, preds)))\n",
    "\n",
    "from sklearn import metrics\n",
    "print(metrics.confusion_matrix(y_test, preds))\n",
    "\n",
    "from sklearn.metrics import classification_report\n",
    "print(classification_report(y_pred=preds, y_true=y_test))\n",
    "\n",
    "\n",
    "cm = metrics.confusion_matrix(y_test,preds)\n",
    "plot_confusion_matrix(cm, n_class,\n",
    "                      title='Confusion matrix')"
   ]
  },
  {
   "cell_type": "code",
   "execution_count": null,
   "metadata": {},
   "outputs": [],
   "source": []
  }
 ],
 "metadata": {
  "kernelspec": {
   "display_name": "sensors",
   "language": "python",
   "name": "myenv"
  },
  "language_info": {
   "codemirror_mode": {
    "name": "ipython",
    "version": 3
   },
   "file_extension": ".py",
   "mimetype": "text/x-python",
   "name": "python",
   "nbconvert_exporter": "python",
   "pygments_lexer": "ipython3",
   "version": "3.7.5"
  }
 },
 "nbformat": 4,
 "nbformat_minor": 2
}
